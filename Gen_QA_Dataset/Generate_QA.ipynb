{
  "cells": [
    {
      "cell_type": "code",
      "execution_count": null,
      "metadata": {
        "id": "Z_-ULLR5xpQS"
      },
      "outputs": [],
      "source": [
        "!pip install openai"
      ]
    },
    {
      "cell_type": "code",
      "execution_count": null,
      "metadata": {
        "id": "tv_hCALCx9L3"
      },
      "outputs": [],
      "source": [
        "import openai\n",
        "import pandas as pd\n",
        "import time\n",
        "\n",
        "openai.api_key = 'api_key'\n",
        "\n",
        "df = pd.read_excel('cleaned_truncated_context.xlsx')\n",
        "\n",
        "def generate_qa_from_context(context):\n",
        "    response = openai.chat.completions.create(model=\"gpt-4o\",\n",
        "     messages=[\n",
        "        {\"role\": \"system\", \"content\": \"You are a knowledgeable assistant capable of generating questions and answers based on provided context. \\\n",
        "                                       Here are some examples:\\\n",
        "                                       \\n\\nContext: The ACB's pre-tax profit increased by more than VND15,024 billion in the first nine months of 2023, an increase of 11% over the same period of the previous year, despite a strong increase in reserve extraction. Overall, in the first nine months of 2023, ACB's principal income increased by 9% over the same period of the previous year, with a net improvement in retail revenues of nearly VND18,670 billion.\\\n",
        "                                       \\nQuestion: What was the percentage increase in ACB's pre-tax profit in the first nine months of 2023?\\\n",
        "                                       \\nAnswer:11% over the same period the previous year.\\\n",
        "                                       \\n\\nGiven the context:\"},\n",
        "        {\"role\": \"user\", \"content\": f\"{context}\\n\\nGenerate a relevant question and answer, question is simple and answer is short:\"}\n",
        "    ])\n",
        "    output = response.choices[0].message.content.strip()\n",
        "\n",
        "    question_start = output.find(\"Question:\") + len(\"Question:\")\n",
        "    answer_start = output.find(\"Answer:\") + len(\"Answer:\")\n",
        "    if question_start > -1 and answer_start > -1:\n",
        "        question = output[question_start:answer_start - len(\"Answer:\")].strip()\n",
        "        answer = output[answer_start:].strip()\n",
        "    else:\n",
        "\n",
        "        question = output\n",
        "        answer = \"\"\n",
        "    return question, answer\n",
        "\n",
        "def save_progress(index):\n",
        "    with open('progress.txt', 'w') as file:\n",
        "        file.write(str(index))\n",
        "\n",
        "def load_progress():\n",
        "    try:\n",
        "        with open('progress.txt', 'r') as file:\n",
        "            progress_str = file.read().strip()\n",
        "            if progress_str:\n",
        "                return int(progress_str)\n",
        "            else:\n",
        "                return 0\n",
        "    except FileNotFoundError:\n",
        "        return 0\n",
        "\n",
        "last_index = load_progress()\n",
        "qa_count = 0\n",
        "\n",
        "for index, row in df.iterrows():\n",
        "    if index < last_index:\n",
        "        continue\n",
        "    if pd.isna(row['question']) or pd.isna(row['answer']):\n",
        "        question, answer = generate_qa_from_context(row['context'])\n",
        "        df.at[index, 'question'] = question\n",
        "        df.at[index, 'answer'] = answer\n",
        "        qa_count += 1\n",
        "        save_progress(index)\n",
        "        df.to_excel('result.xlsx', index=False)\n",
        "\n",
        "        if qa_count % 3 == 0:\n",
        "           time.sleep(60)"
      ]
    }
  ],
  "metadata": {
    "colab": {
      "provenance": []
    },
    "kernelspec": {
      "display_name": "Python 3",
      "name": "python3"
    },
    "language_info": {
      "name": "python"
    }
  },
  "nbformat": 4,
  "nbformat_minor": 0
}
